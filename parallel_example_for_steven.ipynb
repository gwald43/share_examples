{
 "cells": [
  {
   "cell_type": "markdown",
   "metadata": {},
   "source": [
    "## Simple simulation to show use of mclapply in R & pool in Python"
   ]
  },
  {
   "cell_type": "code",
   "execution_count": 1,
   "metadata": {
    "collapsed": true
   },
   "outputs": [],
   "source": [
    "%load_ext rpy2.ipython"
   ]
  },
  {
   "cell_type": "markdown",
   "metadata": {},
   "source": [
    "### R and mclapply for 10 million obs"
   ]
  },
  {
   "cell_type": "code",
   "execution_count": 11,
   "metadata": {
    "collapsed": false
   },
   "outputs": [
    {
     "data": {
      "text/plain": [
       "   grouping        val\n",
       "1:     blue 0.39611141\n",
       "2:    green 0.58412509\n",
       "3:      red 0.06484023\n",
       "4:   yellow 0.52193571\n",
       "5:   purple 0.24946483\n",
       "6:     blue 0.03084971\n",
       "[1] \"Number of cores: 56\"\n",
       "   grouping        val   val_logit\n",
       "1:     blue 0.39611141 -0.42169421\n",
       "2:     blue 0.03084971 -3.44729227\n",
       "3:     blue 0.86535328  1.86048339\n",
       "4:     blue 0.52144631  0.08583789\n",
       "5:     blue 0.75221600  1.11046613\n",
       "6:     blue 0.28713435 -0.90934275\n"
      ]
     },
     "metadata": {},
     "output_type": "display_data"
    }
   ],
   "source": [
    "%%R\n",
    "\n",
    "library(data.table)\n",
    "library(parallel)\n",
    "library(dplyr)\n",
    "\n",
    "#Make dummy data with simple groups, and dummy function to parallelize over\n",
    "\n",
    "color_groups <- c(\"blue\", \"green\", \"red\", \"yellow\", \"purple\")\n",
    "df <- data.table( grouping = rep(color_groups, 10^7/5), val = runif(10^7))\n",
    "\n",
    "print(head(df))\n",
    "\n",
    "#Function to calculate logit on group passed to the function\n",
    "stupid_function <- function(group){\n",
    "    \n",
    "    subset <- df[grouping==group,]\n",
    "    subset[, val_logit := log(val/(1-val))]\n",
    "    return(subset)\n",
    "}\n",
    "\n",
    "#Check out how many cores we can use\n",
    "cores <- detectCores()\n",
    "print(sprintf(\"Number of cores: %s\", cores))\n",
    "\n",
    "#Parallelize and take a peek at the results\n",
    "new_df <- mclapply(color_groups, stupid_function, mc.cores = cores,  mc.preschedule = F) %>%\n",
    "          rbindlist()\n",
    "\n",
    "print(head(new_df))"
   ]
  },
  {
   "cell_type": "markdown",
   "metadata": {},
   "source": [
    "### Python and multiprocessing for 10 million obs"
   ]
  },
  {
   "cell_type": "code",
   "execution_count": 25,
   "metadata": {
    "collapsed": false
   },
   "outputs": [
    {
     "name": "stdout",
     "output_type": "stream",
     "text": [
      "  grouping       val\n",
      "0     blue  0.397099\n",
      "1     blue  0.015617\n",
      "2     blue  0.494578\n",
      "3     blue  0.676089\n",
      "4     blue  0.526428\n",
      "Number of cores: 56\n"
     ]
    },
    {
     "name": "stderr",
     "output_type": "stream",
     "text": [
      "/snfs2/HOME/mgriswol/.conda/envs/my_python/lib/python2.7/site-packages/ipykernel/__main__.py:17: SettingWithCopyWarning: \n",
      "A value is trying to be set on a copy of a slice from a DataFrame.\n",
      "Try using .loc[row_indexer,col_indexer] = value instead\n",
      "\n",
      "See the caveats in the documentation: http://pandas.pydata.org/pandas-docs/stable/indexing.html#indexing-view-versus-copy\n",
      "/snfs2/HOME/mgriswol/.conda/envs/my_python/lib/python2.7/site-packages/ipykernel/__main__.py:17: SettingWithCopyWarning: \n",
      "A value is trying to be set on a copy of a slice from a DataFrame.\n",
      "Try using .loc[row_indexer,col_indexer] = value instead\n",
      "\n",
      "See the caveats in the documentation: http://pandas.pydata.org/pandas-docs/stable/indexing.html#indexing-view-versus-copy\n",
      "/snfs2/HOME/mgriswol/.conda/envs/my_python/lib/python2.7/site-packages/ipykernel/__main__.py:17: SettingWithCopyWarning: \n",
      "A value is trying to be set on a copy of a slice from a DataFrame.\n",
      "Try using .loc[row_indexer,col_indexer] = value instead\n",
      "\n",
      "See the caveats in the documentation: http://pandas.pydata.org/pandas-docs/stable/indexing.html#indexing-view-versus-copy\n",
      "/snfs2/HOME/mgriswol/.conda/envs/my_python/lib/python2.7/site-packages/ipykernel/__main__.py:17: SettingWithCopyWarning: \n",
      "A value is trying to be set on a copy of a slice from a DataFrame.\n",
      "Try using .loc[row_indexer,col_indexer] = value instead\n",
      "\n",
      "See the caveats in the documentation: http://pandas.pydata.org/pandas-docs/stable/indexing.html#indexing-view-versus-copy\n",
      "/snfs2/HOME/mgriswol/.conda/envs/my_python/lib/python2.7/site-packages/ipykernel/__main__.py:17: SettingWithCopyWarning: \n",
      "A value is trying to be set on a copy of a slice from a DataFrame.\n",
      "Try using .loc[row_indexer,col_indexer] = value instead\n",
      "\n",
      "See the caveats in the documentation: http://pandas.pydata.org/pandas-docs/stable/indexing.html#indexing-view-versus-copy\n"
     ]
    },
    {
     "name": "stdout",
     "output_type": "stream",
     "text": [
      "  grouping       val  val_logit\n",
      "0     blue  0.397099  -0.417566\n",
      "1     blue  0.015617  -4.143638\n",
      "2     blue  0.494578  -0.021687\n",
      "3     blue  0.676089   0.735856\n",
      "4     blue  0.526428   0.105811\n"
     ]
    }
   ],
   "source": [
    "import multiprocessing as mp\n",
    "from multiprocessing import Pool\n",
    "import pandas as pd\n",
    "import numpy as np\n",
    "\n",
    "#Build dummy dataframe and groups\n",
    "color_groups = [\"blue\", \"green\", \"red\", \"yellow\", \"purple\"]\n",
    "obs = {'grouping':np.repeat(color_groups, 10**7/5), 'val':np.random.uniform(size=10**7)}\n",
    "df = pd.DataFrame(data = obs)\n",
    "\n",
    "#Take a peek at the dataset\n",
    "print(df.head())\n",
    "\n",
    "#Set up function\n",
    "def stupid_function(group):\n",
    "    subset = df[df.grouping==group]\n",
    "    subset[\"val_logit\"] = np.log(subset['val']/(1-subset['val']))\n",
    "    return(subset)\n",
    "\n",
    "#Check number of cores\n",
    "cores = mp.cpu_count()\n",
    "print(\"Number of cores: {}\".format(cores))\n",
    "\n",
    "p = Pool(cores)\n",
    "new_df = p.map(stupid_function, color_groups)\n",
    "new_df = pd.concat(new_df)\n",
    "\n",
    "print(new_df.head())"
   ]
  }
 ],
 "metadata": {
  "kernelspec": {
   "display_name": "Python 2",
   "language": "python",
   "name": "python2"
  },
  "language_info": {
   "codemirror_mode": {
    "name": "ipython",
    "version": 2
   },
   "file_extension": ".py",
   "mimetype": "text/x-python",
   "name": "python",
   "nbconvert_exporter": "python",
   "pygments_lexer": "ipython2",
   "version": "2.7.13"
  }
 },
 "nbformat": 4,
 "nbformat_minor": 2
}
